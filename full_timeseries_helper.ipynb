{
 "cells": [
  {
   "cell_type": "code",
   "execution_count": null,
   "metadata": {},
   "outputs": [],
   "source": [
    "import pandas as pd\n",
    "from tqdm import tqdm\n",
    "import json\n",
    "from google.oauth2 import service_account"
   ]
  },
  {
   "cell_type": "code",
   "execution_count": null,
   "metadata": {},
   "outputs": [],
   "source": [
    "registration_file_str = r'C:\\Users\\thewh\\Downloads\\registration-timeseries.csv'\n",
    "turnout_file_str = r'C:\\Users\\thewh\\Documents\\Constellation Political\\Research\\After Action Reports\\co-turnout-rates.csv'\n",
    "\n",
    "non_flt_col_lst = [\n",
    "    'Date',\n",
    "    'District',\n",
    "    'District_Type',\n",
    "    'Year'\n",
    "    'RTLA'\n",
    "]\n",
    "\n",
    "# BQ Variables\n",
    "bq_project_name = os.environ.get('BQ_PROJECT_ID')\n",
    "bq_project_location = 'us-west1'\n",
    "bq_dataset_name = 'co_voterfile'\n",
    "bq_timeseries_table_name = 'registration-timeseries'\n",
    "bq_timeseries_table_id = f'{bq_project_name}.{bq_dataset_name}.{bq_timeseries_table_name}'\n",
    "\n",
    "# Establish BigQuery credentials\n",
    "bq_account_creds = json.loads(os.environ.get('BQ_ACCOUNT_CREDS'))\n",
    "bq_credentials = service_account.Credentials.from_service_account_info(bq_account_creds)\n"
   ]
  },
  {
   "cell_type": "code",
   "execution_count": null,
   "metadata": {},
   "outputs": [],
   "source": [
    "registration_df = pd.read_csv(registration_file_str)\n",
    "turnout_df = pd.read_csv(turnout_file_str)"
   ]
  },
  {
   "cell_type": "code",
   "execution_count": null,
   "metadata": {},
   "outputs": [],
   "source": [
    "for col in tqdm(list(registration_df)):\n",
    "    if col not in non_flt_col_lst:\n",
    "        registration_df[col] = pd.to_numeric(registration_df[col], errors='coerce')\n",
    "        registration_df[col] = registration_df[col].astype('Int64')\n",
    "registration_df['RTLA'] = registration_df['RTLA'].astype('float64')\n",
    "\n",
    "for col in tqdm(list(turnout_df)):\n",
    "    if col not in non_flt_col_lst:\n",
    "        turnout_df[col] = pd.to_numeric(turnout_df[col], errors='coerce')\n",
    "        turnout_df[col] = turnout_df[col].astype('float64')"
   ]
  },
  {
   "cell_type": "code",
   "execution_count": null,
   "metadata": {},
   "outputs": [],
   "source": [
    "registration_df['Date'] = pd.to_datetime(registration_df['Date'])"
   ]
  },
  {
   "cell_type": "code",
   "execution_count": null,
   "metadata": {},
   "outputs": [],
   "source": [
    "for i in tqdm(registration_df.index):\n",
    "    row_year_int = registration_df.loc[i, 'Date'].year\n",
    "    if row_year_int < 2010:\n",
    "        turnout_year_int = 2010\n",
    "    else:\n",
    "        turnout_year_int = (row_year_int) + (row_year_int % 2)\n",
    "    \n",
    "    year_int, district_str, rep_flt, dem_flt, uaf_flt, oth_flt, tot_flt = turnout_df[(turnout_df['Year'] == turnout_year_int) & (turnout_df['District'] == registration_df.loc[i, 'District'])].iloc[0]\n",
    "\n",
    "    cast_tot_flt = (registration_df.loc[i, 'REP_TOT'] * rep_flt) + (registration_df.loc[i, 'DEM_TOT'] * dem_flt) + (registration_df.loc[i, 'UAF_TOT'] * uaf_flt) + (registration_df.loc[i, 'OTH_TOT'] * oth_flt)\n",
    "    win_tot_flt = cast_tot_flt * 0.51\n",
    "    uaf_votes_flt = win_tot_flt - (registration_df.loc[i, 'REP_TOT'] * rep_flt)\n",
    "    rtla_flt = uaf_votes_flt / ((registration_df.loc[i, 'UAF_TOT'] * uaf_flt) + (registration_df.loc[i, 'OTH_TOT'] * oth_flt))\n",
    "\n",
    "    registration_df.loc[i, 'RTLA'] = rtla_flt\n",
    "\n",
    "    "
   ]
  },
  {
   "cell_type": "code",
   "execution_count": null,
   "metadata": {},
   "outputs": [],
   "source": [
    "def create_bq_schema(df: pd.DataFrame) -> list:\n",
    "    schema_list = []\n",
    "    for column in list(df):\n",
    "        if 'date' in column.lower():\n",
    "            sql_type = 'DATE'\n",
    "        elif column in ['RTLA']:\n",
    "            sql_type = 'FLOAT'\n",
    "        elif column in ['District', 'District_Type']:\n",
    "            sql_type = 'STRING'\n",
    "        else:\n",
    "            sql_type = 'INT64'\n",
    "                \n",
    "        if column in ['District', 'Date']:\n",
    "            sql_mode = 'REQUIRED'\n",
    "        else:\n",
    "            sql_mode = 'NULLABLE'\n",
    "            \n",
    "        schema_list.append({'name':  column, 'type': sql_type, 'mode': sql_mode})\n",
    "    \n",
    "    return schema_list"
   ]
  },
  {
   "cell_type": "code",
   "execution_count": null,
   "metadata": {},
   "outputs": [],
   "source": [
    "bq_schema_lst = create_bq_schema(registration_df)"
   ]
  },
  {
   "cell_type": "code",
   "execution_count": null,
   "metadata": {},
   "outputs": [],
   "source": [
    "registration_df.to_gbq(destination_table=bq_timeseries_table_id, project_id=bq_project_name, if_exists='replace', table_schema=bq_schema_lst, credentials=bq_credentials)\n"
   ]
  },
  {
   "cell_type": "code",
   "execution_count": null,
   "metadata": {},
   "outputs": [],
   "source": []
  }
 ],
 "metadata": {
  "kernelspec": {
   "display_name": ".venv",
   "language": "python",
   "name": "python3"
  },
  "language_info": {
   "codemirror_mode": {
    "name": "ipython",
    "version": 3
   },
   "file_extension": ".py",
   "mimetype": "text/x-python",
   "name": "python",
   "nbconvert_exporter": "python",
   "pygments_lexer": "ipython3",
   "version": "3.9.13"
  },
  "orig_nbformat": 4,
  "vscode": {
   "interpreter": {
    "hash": "737b64f8538ab409c0f99e14072488902286d05af8834b4b99632b882692cdf3"
   }
  }
 },
 "nbformat": 4,
 "nbformat_minor": 2
}
